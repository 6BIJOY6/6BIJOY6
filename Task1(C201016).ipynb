{
  "nbformat": 4,
  "nbformat_minor": 0,
  "metadata": {
    "colab": {
      "provenance": [],
      "authorship_tag": "ABX9TyPOfUUzhx8SczYQSIz/Zj3W",
      "include_colab_link": true
    },
    "kernelspec": {
      "name": "python3",
      "display_name": "Python 3"
    },
    "language_info": {
      "name": "python"
    }
  },
  "cells": [
    {
      "cell_type": "markdown",
      "metadata": {
        "id": "view-in-github",
        "colab_type": "text"
      },
      "source": [
        "<a href=\"https://colab.research.google.com/github/6BIJOY6/6BIJOY6/blob/main/Task1(C201016).ipynb\" target=\"_parent\"><img src=\"https://colab.research.google.com/assets/colab-badge.svg\" alt=\"Open In Colab\"/></a>"
      ]
    },
    {
      "cell_type": "markdown",
      "source": [
        "# **Variable**"
      ],
      "metadata": {
        "id": "ClboMtkVs0T9"
      }
    },
    {
      "cell_type": "markdown",
      "source": [
        "**Assignment 1**"
      ],
      "metadata": {
        "id": "TYXkwsuwtHGK"
      }
    },
    {
      "cell_type": "code",
      "execution_count": 2,
      "metadata": {
        "colab": {
          "base_uri": "https://localhost:8080/"
        },
        "id": "i3dno5PPsru9",
        "outputId": "56faba53-fe5c-4aaf-d68d-6c6e87007f16"
      },
      "outputs": [
        {
          "output_type": "stream",
          "name": "stdout",
          "text": [
            "25 Bijoy Das\n"
          ]
        }
      ],
      "source": [
        "# Assignment 1: Create two variables, one holding a number and the other holding your name. Then print both.\n",
        "age = 25\n",
        "name = \"Bijoy Das\"\n",
        "print(age, name)"
      ]
    },
    {
      "cell_type": "markdown",
      "source": [
        "**Assignment 2**"
      ],
      "metadata": {
        "id": "vm4-G47Ct0gT"
      }
    },
    {
      "cell_type": "code",
      "source": [
        "# Assignment 2: Create variables of different types and use the type() function to check their types.\n",
        "int_var = 10\n",
        "float_var = 10.5\n",
        "str_var = \"Hello\"\n",
        "bool_var = True\n",
        "print(type(int_var), type(float_var), type(str_var), type(bool_var))\n"
      ],
      "metadata": {
        "colab": {
          "base_uri": "https://localhost:8080/"
        },
        "id": "TFqVQavdt-rE",
        "outputId": "eacda1c8-88c7-4719-e4da-4be414220843"
      },
      "execution_count": 3,
      "outputs": [
        {
          "output_type": "stream",
          "name": "stdout",
          "text": [
            "<class 'int'> <class 'float'> <class 'str'> <class 'bool'>\n"
          ]
        }
      ]
    },
    {
      "cell_type": "markdown",
      "source": [
        "**Assignment 3**"
      ],
      "metadata": {
        "id": "GPbPNhRbuDTi"
      }
    },
    {
      "cell_type": "code",
      "source": [
        "# Assignment 3: Fix the bad variable name and create three more variables with good naming practices.\n",
        "#_bad_variable = \"Fix me\"\n",
        "#2fixed_variable = \"Fixed Name\"\n",
        "\n",
        "age = 30\n",
        "grade = \"A\"\n",
        "is_student = True"
      ],
      "metadata": {
        "id": "lLY-LePCuHbi"
      },
      "execution_count": 4,
      "outputs": []
    },
    {
      "cell_type": "markdown",
      "source": [
        "**Assignment 04**"
      ],
      "metadata": {
        "id": "raRxQxC6usCV"
      }
    },
    {
      "cell_type": "code",
      "source": [
        "# Assignment 4: Create a variable, assign it a value of one type, then reassign it to a different type and print both.\n",
        "variable = 42  # Initially an integer\n",
        "print(variable)\n",
        "variable = \"Now a string\"\n",
        "print(variable)"
      ],
      "metadata": {
        "colab": {
          "base_uri": "https://localhost:8080/"
        },
        "id": "2q4ubHXRuxPE",
        "outputId": "6b89afc6-3925-4db7-c41e-71b1c104f027"
      },
      "execution_count": 5,
      "outputs": [
        {
          "output_type": "stream",
          "name": "stdout",
          "text": [
            "42\n",
            "Now a string\n"
          ]
        }
      ]
    },
    {
      "cell_type": "markdown",
      "source": [
        "# List_Tuple"
      ],
      "metadata": {
        "id": "RKnGwyS2u6aL"
      }
    },
    {
      "cell_type": "markdown",
      "source": [
        "**Assignment 01**"
      ],
      "metadata": {
        "id": "4RZKsOl8vIiT"
      }
    },
    {
      "cell_type": "code",
      "source": [
        "# Assignment 1: Create a 2D list representing a 3x3 matrix and perform operations like accessing, modifying, and iterating through it.\n",
        "matrix = [\n",
        "    [1, 2, 3],\n",
        "    [4, 5, 6],\n",
        "    [7, 8, 9]\n",
        "]\n",
        "print(matrix[1][1])  # Accessing element\n",
        "matrix[2][2] = 10  # Modifying element\n",
        "for row in matrix:  # Iterating\n",
        "    print(row)\n"
      ],
      "metadata": {
        "colab": {
          "base_uri": "https://localhost:8080/"
        },
        "id": "R41JhG8YvHWR",
        "outputId": "7d3a5753-744d-4d4c-cea8-a9fa2e01ef84"
      },
      "execution_count": 6,
      "outputs": [
        {
          "output_type": "stream",
          "name": "stdout",
          "text": [
            "5\n",
            "[1, 2, 3]\n",
            "[4, 5, 6]\n",
            "[7, 8, 10]\n"
          ]
        }
      ]
    },
    {
      "cell_type": "markdown",
      "source": [
        "Assignment 02\n"
      ],
      "metadata": {
        "id": "ZlqGMIM4vYFo"
      }
    },
    {
      "cell_type": "code",
      "source": [
        "# Assignment 2: Create a tuple with mixed data types and demonstrate its potential use cases in data structures like dictionaries.\n",
        "mixed_tuple = (\"Joy\", 25, True)\n",
        "data_dict = {\"person_info\": mixed_tuple}\n",
        "print(data_dict)\n",
        "\n",
        "# Accessing and utilizing the tuple data\n",
        "print(f\"Name: {data_dict['person_info'][0]}\")\n",
        "print(f\"Age: {data_dict['person_info'][1]}\")\n",
        "print(f\"Active Status: {data_dict['person_info'][2]}\")\n",
        "\n",
        "# Storing multiple people's information in a dictionary\n",
        "data_dict = {\n",
        "    \"person_1\": (\"Joy\", 25, True),  # Name, age, active status\n",
        "    \"person_2\": (\"rakib\", 30, False),\n",
        "    \"person_3\": (\"Doe\", 22, True),\n",
        "}\n",
        "\n",
        "# Iterate through the dictionary to display each person's details\n",
        "for person, info in data_dict.items():\n",
        "    print(f\"{person}: Name = {info[0]}, Age = {info[1]}, Active = {info[2]}\")\n",
        "\n",
        "# Use case: Quick access to immutable attributes for a system\n",
        "user_data = {\n",
        "    \"admin\": (\"joy\", \"Admin\", True),  # Username, Role, Active\n",
        "    \"user1\": (\"Bob\", \"User\", False),\n",
        "}\n",
        "\n",
        "# Check if a user is active and their role\n",
        "username = \"admin\"\n",
        "if username in user_data:\n",
        "    role = user_data[username][1]\n",
        "    is_active = user_data[username][2]\n",
        "    print(f\"{username} is a {role}. Active: {is_active}\")\n",
        "else:\n",
        "    print(\"User not found.\")\n",
        "\n"
      ],
      "metadata": {
        "colab": {
          "base_uri": "https://localhost:8080/"
        },
        "id": "fx1xUAgmvdEQ",
        "outputId": "c1dc84bf-19aa-422e-c25a-a7283519a1e7"
      },
      "execution_count": 8,
      "outputs": [
        {
          "output_type": "stream",
          "name": "stdout",
          "text": [
            "{'person_info': ('Joy', 25, True)}\n",
            "Name: Joy\n",
            "Age: 25\n",
            "Active Status: True\n",
            "person_1: Name = Joy, Age = 25, Active = True\n",
            "person_2: Name = rakib, Age = 30, Active = False\n",
            "person_3: Name = Doe, Age = 22, Active = True\n",
            "admin is a Admin. Active: True\n"
          ]
        }
      ]
    },
    {
      "cell_type": "markdown",
      "source": [
        "Assignment 03\n"
      ],
      "metadata": {
        "id": "xpmhcZbnwkY-"
      }
    },
    {
      "cell_type": "code",
      "source": [
        "# Assignment 3: Create a list of tuples, where each tuple contains a student's name and their grade. Sort this list by grades.\n",
        "students = [(\"Joy\", 85), (\"rakib\", 90), (\"devdas\", 78)]\n",
        "sorted_students = sorted(students, key=lambda x: x[1])\n",
        "print(sorted_students)"
      ],
      "metadata": {
        "colab": {
          "base_uri": "https://localhost:8080/"
        },
        "id": "3a-2uf1bwm7W",
        "outputId": "66240035-91f2-479d-ef6a-6db2ad62a83e"
      },
      "execution_count": 9,
      "outputs": [
        {
          "output_type": "stream",
          "name": "stdout",
          "text": [
            "[('devdas', 78), ('Joy', 85), ('rakib', 90)]\n"
          ]
        }
      ]
    },
    {
      "cell_type": "markdown",
      "source": [
        "# Dictionary"
      ],
      "metadata": {
        "id": "-rmNgkPFxCw7"
      }
    },
    {
      "cell_type": "code",
      "source": [
        "# Assignment 1: Create a dictionary representing a student with keys like 'name', 'roll_number', 'grades' (a list of subjects and marks).\n",
        "student_dict = {\n",
        "    \"name\": \"Joy Das\",\n",
        "    \"roll_number\": \"C201016\",\n",
        "    \"grades\": {\"DS\": 90, \"ML\": 85, \"D\": 88}\n",
        "}\n",
        "print(student_dict)"
      ],
      "metadata": {
        "colab": {
          "base_uri": "https://localhost:8080/"
        },
        "id": "dJ4GCHIJxSB5",
        "outputId": "c223f0f2-9701-40bc-d243-a28bd90a9959"
      },
      "execution_count": 12,
      "outputs": [
        {
          "output_type": "stream",
          "name": "stdout",
          "text": [
            "{'name': 'Joy Das', 'roll_number': 'C201016', 'grades': {'DS': 90, 'ML': 85, 'D': 88}}\n"
          ]
        }
      ]
    },
    {
      "cell_type": "markdown",
      "source": [
        "**Assignment 02**"
      ],
      "metadata": {
        "id": "2PrAmS6axg9H"
      }
    },
    {
      "cell_type": "code",
      "source": [
        "# Assignment 2: Create a dictionary where keys are student names and values are lists of grades. Calculate the average grade for each student.\n",
        "students_grades = {\n",
        "    \"joy\": [85, 90, 88],\n",
        "    \"rakib\": [92, 88, 94],\n",
        "    \"Devdas\": [78, 85, 80]\n",
        "}\n",
        "for student, grades in students_grades.items():\n",
        "    avg = sum(grades) / len(grades)\n",
        "    print(f\"{student}: {avg:.2f}\")"
      ],
      "metadata": {
        "colab": {
          "base_uri": "https://localhost:8080/"
        },
        "id": "i3WFKt7rxlBe",
        "outputId": "30c2225d-904b-4bd8-e515-ffb946e84c21"
      },
      "execution_count": 13,
      "outputs": [
        {
          "output_type": "stream",
          "name": "stdout",
          "text": [
            "joy: 87.67\n",
            "rakib: 91.33\n",
            "Devdas: 81.00\n"
          ]
        }
      ]
    },
    {
      "cell_type": "markdown",
      "source": [
        "# String"
      ],
      "metadata": {
        "id": "adac3kypx5mU"
      }
    },
    {
      "cell_type": "markdown",
      "source": [
        "**Assignment 01**"
      ],
      "metadata": {
        "id": "3tNu-6igx9vL"
      }
    },
    {
      "cell_type": "code",
      "source": [
        "# Assignment 1: Create a string that contains a simple bio-data like name, age, and country. Extract each piece of information and print them separately.\n",
        "bio_data = \"Name: Joy, Age: 25, Country: BD\"\n",
        "parts = bio_data.split(\", \")\n",
        "for part in parts:\n",
        "    print(part.split(\": \")[1])"
      ],
      "metadata": {
        "colab": {
          "base_uri": "https://localhost:8080/"
        },
        "id": "SXliAwnXyBRU",
        "outputId": "64032a2b-e930-4ec2-ce3a-7f474b1c5fa3"
      },
      "execution_count": 14,
      "outputs": [
        {
          "output_type": "stream",
          "name": "stdout",
          "text": [
            "Joy\n",
            "25\n",
            "BD\n"
          ]
        }
      ]
    },
    {
      "cell_type": "markdown",
      "source": [
        "**Assignment 02**"
      ],
      "metadata": {
        "id": "wUg7FIP-yPSB"
      }
    },
    {
      "cell_type": "code",
      "source": [
        "# Assignment 2: Create a formatted string that includes data from a list or dictionary.\n",
        "person_info = {\"name\": \"Joy\", \"age\": 25, \"country\": \"BD\"}\n",
        "formatted_string = f\"My name is {person_info['name']}, I am {person_info['age']} years old, and I live in {person_info['country']}.\"\n",
        "print(formatted_string)\n"
      ],
      "metadata": {
        "colab": {
          "base_uri": "https://localhost:8080/"
        },
        "id": "HKuTj3LByTCQ",
        "outputId": "3d8803d9-3294-4e2c-cfe1-042204d3f73a"
      },
      "execution_count": 15,
      "outputs": [
        {
          "output_type": "stream",
          "name": "stdout",
          "text": [
            "My name is Joy, I am 25 years old, and I live in BD.\n"
          ]
        }
      ]
    },
    {
      "cell_type": "markdown",
      "source": [
        "Assignment 03"
      ],
      "metadata": {
        "id": "WA45zlFmybQw"
      }
    },
    {
      "cell_type": "code",
      "source": [
        "# Write a function that takes a string and returns a dictionary with the counts of each character in the string.\n",
        "def char_count(s):\n",
        "    counts = {}\n",
        "    for char in s:\n",
        "        counts[char] = counts.get(char, 0) + 1\n",
        "    return counts\n",
        "\n",
        "print(char_count(\"hello world\"))"
      ],
      "metadata": {
        "colab": {
          "base_uri": "https://localhost:8080/"
        },
        "id": "oz0TUIHRydo3",
        "outputId": "9255c29e-2088-4df7-fb82-9e951fd5d8d1"
      },
      "execution_count": 16,
      "outputs": [
        {
          "output_type": "stream",
          "name": "stdout",
          "text": [
            "{'h': 1, 'e': 1, 'l': 3, 'o': 2, ' ': 1, 'w': 1, 'r': 1, 'd': 1}\n"
          ]
        }
      ]
    },
    {
      "cell_type": "markdown",
      "source": [
        "# Conditional"
      ],
      "metadata": {
        "id": "4z9N3TOxyvx1"
      }
    },
    {
      "cell_type": "markdown",
      "source": [
        "**Assignment 01**"
      ],
      "metadata": {
        "id": "qUG66lqYy2K8"
      }
    },
    {
      "cell_type": "code",
      "source": [
        "# Assignment 1: Determine if a number is positive, negative, or zero.\n",
        "def check_number_sign(number):\n",
        "    if number > 0:\n",
        "        print(\"Positive\")\n",
        "    elif number < 0:\n",
        "        print(\"Negative\")\n",
        "    else:\n",
        "        print(\"Zero\")\n",
        "\n",
        "check_number_sign(5)\n",
        "check_number_sign(-3)\n",
        "check_number_sign(0)\n"
      ],
      "metadata": {
        "colab": {
          "base_uri": "https://localhost:8080/"
        },
        "id": "eLCMIU0Fyz1M",
        "outputId": "819db15c-5251-4f98-c25e-c2b6387979c9"
      },
      "execution_count": 17,
      "outputs": [
        {
          "output_type": "stream",
          "name": "stdout",
          "text": [
            "Positive\n",
            "Negative\n",
            "Zero\n"
          ]
        }
      ]
    },
    {
      "cell_type": "markdown",
      "source": [
        "**Assignment 02**"
      ],
      "metadata": {
        "id": "QYNNT0hHy9kr"
      }
    },
    {
      "cell_type": "code",
      "source": [
        "# Assignment 2: Simulate a basic login system.\n",
        "def login_system():\n",
        "    correct_username = \"admin\"\n",
        "    correct_password = \"password123\"\n",
        "    username = input(\"Enter username: \")\n",
        "    password = input(\"Enter password: \")\n",
        "    if username == correct_username and password == correct_password:\n",
        "        print(\"Login successful!\")\n",
        "    else:\n",
        "        print(\"Invalid username or password.\")\n",
        "\n",
        "login_system()\n"
      ],
      "metadata": {
        "colab": {
          "base_uri": "https://localhost:8080/"
        },
        "id": "3nn8Tz0Ty8wb",
        "outputId": "1764b765-24cc-4333-e560-49458a303d0c"
      },
      "execution_count": 19,
      "outputs": [
        {
          "output_type": "stream",
          "name": "stdout",
          "text": [
            "Enter username: admin\n",
            "Enter password: password123\n",
            "Login successful!\n"
          ]
        }
      ]
    },
    {
      "cell_type": "markdown",
      "source": [
        "**assignment 03**"
      ],
      "metadata": {
        "id": "CXSFuJD1zUF4"
      }
    },
    {
      "cell_type": "code",
      "source": [
        "# Assignment 3: Categorize a day based on temperature and weather conditions.\n",
        "def categorize_day(temperature, weather):\n",
        "    if temperature > 30 and weather == \"sunny\":\n",
        "        print(\"It's a hot sunny day.\")\n",
        "    elif temperature <= 30 and weather == \"rainy\":\n",
        "        print(\"It's a cool rainy day.\")\n",
        "    else:\n",
        "        print(\"It's a pleasant day.\")\n",
        "\n",
        "categorize_day(35, \"sunny\")\n",
        "categorize_day(25, \"rainy\")\n",
        "categorize_day(20, \"cloudy\")"
      ],
      "metadata": {
        "colab": {
          "base_uri": "https://localhost:8080/"
        },
        "id": "0kJIyTeuzXFX",
        "outputId": "574be760-2930-4c57-844f-3fc7b2f472a1"
      },
      "execution_count": 20,
      "outputs": [
        {
          "output_type": "stream",
          "name": "stdout",
          "text": [
            "It's a hot sunny day.\n",
            "It's a cool rainy day.\n",
            "It's a pleasant day.\n"
          ]
        }
      ]
    },
    {
      "cell_type": "markdown",
      "source": [
        "# loop"
      ],
      "metadata": {
        "id": "R1f2SlvzzeSX"
      }
    },
    {
      "cell_type": "markdown",
      "source": [
        "**Assignment 01**"
      ],
      "metadata": {
        "id": "ZeDu7piCzjLG"
      }
    },
    {
      "cell_type": "code",
      "source": [
        "# Assignment 1: Process a list of temperature readings with a threshold warning.\n",
        "def temperature_warning(readings, threshold):\n",
        "    for temp in readings:\n",
        "        if temp > threshold:\n",
        "            print(f\"Warning: Temperature {temp} exceeds the threshold of {threshold}!\")\n",
        "\n",
        "temperature_warning([25, 30, 35, 40], 32)\n"
      ],
      "metadata": {
        "colab": {
          "base_uri": "https://localhost:8080/"
        },
        "id": "7Mwiy9mxziz2",
        "outputId": "da4ca954-bad7-4e51-c3ff-265c6e4c2ce4"
      },
      "execution_count": 21,
      "outputs": [
        {
          "output_type": "stream",
          "name": "stdout",
          "text": [
            "Warning: Temperature 35 exceeds the threshold of 32!\n",
            "Warning: Temperature 40 exceeds the threshold of 32!\n"
          ]
        }
      ]
    },
    {
      "cell_type": "markdown",
      "source": [
        "# Function"
      ],
      "metadata": {
        "id": "N0ACOIaQ0H7C"
      }
    },
    {
      "cell_type": "markdown",
      "source": [
        "**Assignment 01**"
      ],
      "metadata": {
        "id": "6Sy6eKv2zrYm"
      }
    },
    {
      "cell_type": "code",
      "source": [
        "# Assignment 1: Function to calculate the factorial of a number.\n",
        "def factorial(n):\n",
        "    try:\n",
        "        if n < 0:\n",
        "            raise ValueError(\"Factorial is not defined for negative numbers.\")\n",
        "        result = 1\n",
        "        for i in range(1, n + 1):\n",
        "            result *= i\n",
        "        return result\n",
        "    except TypeError:\n",
        "        print(\"Input must be an integer.\")\n",
        "\n",
        "print(factorial(5))\n",
        "print(factorial(3))\n",
        "\n"
      ],
      "metadata": {
        "colab": {
          "base_uri": "https://localhost:8080/"
        },
        "id": "XHx_j-sXzxMe",
        "outputId": "6435953b-f587-4490-a1cf-52eff4e5e96c"
      },
      "execution_count": 23,
      "outputs": [
        {
          "output_type": "stream",
          "name": "stdout",
          "text": [
            "120\n",
            "6\n"
          ]
        }
      ]
    },
    {
      "cell_type": "markdown",
      "source": [
        "# Files"
      ],
      "metadata": {
        "id": "Jdq5f1uc0SCR"
      }
    },
    {
      "cell_type": "markdown",
      "source": [
        "**Assignment 01**"
      ],
      "metadata": {
        "id": "2gt28mtq0YEw"
      }
    },
    {
      "cell_type": "code",
      "source": [
        "# Assignment 1: Read a CSV file and convert it to a JSON file.\n",
        "import csv\n",
        "import json\n",
        "\n",
        "def csv_to_json(csv_file, json_file):\n",
        "    try:\n",
        "        with open(csv_file, 'r') as f:\n",
        "            reader = csv.DictReader(f)\n",
        "            rows = list(reader)\n",
        "        with open(json_file, 'w') as f:\n",
        "            json.dump(rows, f, indent=4)\n",
        "        print(f\"CSV data has been converted to JSON in {json_file}.\")\n",
        "    except FileNotFoundError:\n",
        "        print(f\"File {csv_file} not found.\")\n",
        "\n",
        "csv_to_json('products.csv', 'products.json')"
      ],
      "metadata": {
        "colab": {
          "base_uri": "https://localhost:8080/"
        },
        "id": "-6tUsTKz0bF3",
        "outputId": "2629fce7-9010-43aa-c721-5ec4f39b26b3"
      },
      "execution_count": 24,
      "outputs": [
        {
          "output_type": "stream",
          "name": "stdout",
          "text": [
            "CSV data has been converted to JSON in products.json.\n"
          ]
        }
      ]
    },
    {
      "cell_type": "markdown",
      "source": [
        "**Assignment 02 **"
      ],
      "metadata": {
        "id": "-M3TjDdZ1I-a"
      }
    },
    {
      "cell_type": "code",
      "source": [
        "# Assignment 2: Log file writer with timestamps.\n",
        "from datetime import datetime\n",
        "\n",
        "def write_log(message, log_file=\"logfile.txt\"):\n",
        "    with open(log_file, 'a') as f:\n",
        "        timestamp = datetime.now().strftime(\"%Y-%m-%d %H:%M:%S\")\n",
        "        f.write(f\"[{timestamp}] {message}\\n\")\n",
        "\n",
        "write_log(\"Application started.\")\n",
        "write_log(\"An error occurred.\")"
      ],
      "metadata": {
        "id": "JOJwqfWT1Npy"
      },
      "execution_count": 25,
      "outputs": []
    },
    {
      "cell_type": "markdown",
      "source": [
        "# Math"
      ],
      "metadata": {
        "id": "QGwTOqB-1ZdY"
      }
    },
    {
      "cell_type": "markdown",
      "source": [
        "  Assignment 01"
      ],
      "metadata": {
        "id": "whwnM89L1l73"
      }
    },
    {
      "cell_type": "code",
      "source": [
        "# Assignment 1: Calculate compound interest.\n",
        "def compound_interest(principal, rate, times, years):\n",
        "    amount = principal * (1 + rate / times) ** (times * years)\n",
        "    return amount\n",
        "\n",
        "print(compound_interest(1000, 0.05, 12, 5))\n"
      ],
      "metadata": {
        "colab": {
          "base_uri": "https://localhost:8080/"
        },
        "id": "-12rcqNw1s3l",
        "outputId": "3690e486-786b-4459-f7a9-eb57d17a1db2"
      },
      "execution_count": 26,
      "outputs": [
        {
          "output_type": "stream",
          "name": "stdout",
          "text": [
            "1283.3586785035118\n"
          ]
        }
      ]
    },
    {
      "cell_type": "markdown",
      "source": [
        "Assignment 02"
      ],
      "metadata": {
        "id": "JrgNdzc21xHV"
      }
    },
    {
      "cell_type": "code",
      "source": [
        "import time\n",
        "from datetime import datetime\n",
        "\n",
        "def display_time():\n",
        "    \"\"\"\n",
        "    Prints the current time and updates every second.\n",
        "    \"\"\"\n",
        "    try:\n",
        "        while True:\n",
        "            # Get the current time\n",
        "            current_time = datetime.now().strftime(\"%H:%M:%S\")\n",
        "\n",
        "            # Print the current time (overwrite the same line)\n",
        "            print(f\"\\rCurrent Time: {current_time}\", end=\"\")\n",
        "\n",
        "            # Wait for 1 second\n",
        "            time.sleep(1)\n",
        "    except KeyboardInterrupt:\n",
        "        # Handle graceful exit when user presses Ctrl+C\n",
        "        print(\"\\nTime display stopped.\")\n",
        "        print(\"used gpt help\")\n",
        "\n",
        "# Run the function\n",
        "if __name__ == \"__main__\":\n",
        "    display_time()"
      ],
      "metadata": {
        "colab": {
          "base_uri": "https://localhost:8080/"
        },
        "id": "ZnUGqwQz1wv9",
        "outputId": "96b71c87-f792-4dc8-e857-26930375651d"
      },
      "execution_count": 28,
      "outputs": [
        {
          "output_type": "stream",
          "name": "stdout",
          "text": [
            "Current Time: 20:12:54\n",
            "Time display stopped.\n",
            "used gpt help\n"
          ]
        }
      ]
    },
    {
      "cell_type": "markdown",
      "source": [
        "# Module Package Library"
      ],
      "metadata": {
        "id": "o_G1PoC82eyo"
      }
    },
    {
      "cell_type": "markdown",
      "source": [
        "**Assignment 01**"
      ],
      "metadata": {
        "id": "gJMc1h2S2jk_"
      }
    },
    {
      "cell_type": "code",
      "source": [
        "# Assignment 1: Simple package with two modules.\n",
        "# File structure:\n",
        "# my_package/\n",
        "# ├── __init__.py\n",
        "# ├── module1.py\n",
        "# └── module2.py\n",
        "\n",
        "# File: module1.py\n",
        "def greet(name):\n",
        "    return f\"Hello, {name}!\"\n",
        "\n",
        "# File: module2.py\n",
        "def multiply(a, b):\n",
        "    return a * b\n",
        "\n",
        "# Usage example:\n",
        "# from my_package.module1 import greet\n",
        "# from my_package.module2 import multiply\n",
        "# print(greet(\"biJOY\"))\n",
        "#print(multiply(5, 3))"
      ],
      "metadata": {
        "id": "0VQzw0UX2mTn"
      },
      "execution_count": 36,
      "outputs": []
    },
    {
      "cell_type": "markdown",
      "source": [
        "ASSIGNMENT 02"
      ],
      "metadata": {
        "id": "q7f3qtSz2-_N"
      }
    },
    {
      "cell_type": "code",
      "source": [
        "# Assignment 2: Install a new library and explore its functionality.\n",
        "# Install pandas:\n",
        "!pip install pandas\n",
        "import pandas as pd\n",
        "\n",
        "data = {\"Name\": [\"Joy\", \"Jarves\", \"Doe\"], \"Age\": [25, 30, 22]}\n",
        "df = pd.DataFrame(data)\n",
        "print(df)"
      ],
      "metadata": {
        "colab": {
          "base_uri": "https://localhost:8080/"
        },
        "id": "_C0NpHrV65id",
        "outputId": "046cbdd5-e32c-421c-b7ab-5545dedf7148"
      },
      "execution_count": 58,
      "outputs": [
        {
          "output_type": "stream",
          "name": "stdout",
          "text": [
            "Requirement already satisfied: pandas in /usr/local/lib/python3.10/dist-packages (2.2.2)\n",
            "Requirement already satisfied: numpy>=1.22.4 in /usr/local/lib/python3.10/dist-packages (from pandas) (1.26.4)\n",
            "Requirement already satisfied: python-dateutil>=2.8.2 in /usr/local/lib/python3.10/dist-packages (from pandas) (2.8.2)\n",
            "Requirement already satisfied: pytz>=2020.1 in /usr/local/lib/python3.10/dist-packages (from pandas) (2024.2)\n",
            "Requirement already satisfied: tzdata>=2022.7 in /usr/local/lib/python3.10/dist-packages (from pandas) (2024.2)\n",
            "Requirement already satisfied: six>=1.5 in /usr/local/lib/python3.10/dist-packages (from python-dateutil>=2.8.2->pandas) (1.17.0)\n",
            "     Name  Age\n",
            "0     Joy   25\n",
            "1  Jarves   30\n",
            "2     Doe   22\n"
          ]
        }
      ]
    },
    {
      "cell_type": "markdown",
      "source": [],
      "metadata": {
        "id": "Gt7LIPEZ0CDT"
      }
    }
  ]
}